{
 "cells": [
  {
   "cell_type": "code",
   "execution_count": 58,
   "id": "f8d8043a",
   "metadata": {},
   "outputs": [],
   "source": [
    "def is_prime(n):\n",
    "    '''\n",
    "    Takes an input number (integer) and checks to see if it is a prime number or not\n",
    "    \n",
    "    Parameters:\n",
    "    Input number as an integer\n",
    "    \n",
    "    Returns:\n",
    "    True if number is a prime number\n",
    "    '''\n",
    "    count = 0\n",
    "    for i in range(1, n+1):\n",
    "        if n%i == 0:\n",
    "            count += 1\n",
    "            \n",
    "    if count == 2:\n",
    "        return True\n",
    "    else:\n",
    "        return False"
   ]
  },
  {
   "cell_type": "code",
   "execution_count": 73,
   "id": "eac517f6",
   "metadata": {},
   "outputs": [
    {
     "data": {
      "text/plain": [
       "True"
      ]
     },
     "execution_count": 73,
     "metadata": {},
     "output_type": "execute_result"
    }
   ],
   "source": [
    "is_prime(313)"
   ]
  },
  {
   "cell_type": "code",
   "execution_count": 81,
   "id": "62631080",
   "metadata": {},
   "outputs": [],
   "source": [
    "def count_prime(start, end):\n",
    "    '''\n",
    "    Uses the function is_prime(n) to loop through a specified range of numbers to check for the total number of prime numbers\n",
    "    \n",
    "    Parameters:\n",
    "    Start and end number of the desired range\n",
    "    \n",
    "    Returns:\n",
    "    Total number of prime numbers in the range as an integer\n",
    "    '''\n",
    "    total_prime = 0\n",
    "    for i in range(start,end+1):\n",
    "        if is_prime_chat_gpt(i):\n",
    "            total_prime += 1\n",
    "    return total_prime"
   ]
  },
  {
   "cell_type": "code",
   "execution_count": 82,
   "id": "36174fe1",
   "metadata": {},
   "outputs": [
    {
     "data": {
      "text/plain": [
       "11"
      ]
     },
     "execution_count": 82,
     "metadata": {},
     "output_type": "execute_result"
    }
   ],
   "source": [
    "count_prime(100,151)"
   ]
  },
  {
   "cell_type": "code",
   "execution_count": null,
   "id": "ad6cadf1",
   "metadata": {},
   "outputs": [],
   "source": []
  }
 ],
 "metadata": {
  "kernelspec": {
   "display_name": "Python 3 (ipykernel)",
   "language": "python",
   "name": "python3"
  },
  "language_info": {
   "codemirror_mode": {
    "name": "ipython",
    "version": 3
   },
   "file_extension": ".py",
   "mimetype": "text/x-python",
   "name": "python",
   "nbconvert_exporter": "python",
   "pygments_lexer": "ipython3",
   "version": "3.10.9"
  }
 },
 "nbformat": 4,
 "nbformat_minor": 5
}
